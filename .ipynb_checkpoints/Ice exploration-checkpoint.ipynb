{
 "cells": [
  {
   "cell_type": "markdown",
   "metadata": {},
   "source": [
    "## ARIMA MODEL\n",
    "\n",
    "In this notebook I am exploring the data and some of the items sold in the store, and attempting to fit a time series ARIMA model to one of the items sold. Specifically, I chose ice as an item, expecting to see more seasonal data as people would be more inclined to buy it in the summer. \n",
    "\n",
    "I attempted to predict the last 10 days of of the data in regards to the dollars' worth of ice that the store sold.\n",
    "\n",
    "Unfortunately, since the data is only 13 months old, the model could not grasp seasonal trends eg. every summer more people buy ice. Although it did not make good predictions on a daily basis, regarding how much ice would be sold every one of the last 10 days, overall it did pretty well since around 280 dollars worth of ice was sold in the last 10 days and the model predicted about 290. \n",
    "\n",
    "Next steps will be to maybe try out some other items with this model and then soon move on to a recurrent neural network which should be able to yield better results."
   ]
  },
  {
   "cell_type": "code",
   "execution_count": null,
   "metadata": {},
   "outputs": [],
   "source": [
    "import matplotlib.pyplot as plt\n",
    "import pandas as pd\n",
    "import numpy as np\n",
    "from statsmodels.tsa.arima_process import arma_generate_sample\n",
    "from statsmodels.graphics.tsaplots import plot_acf, plot_pacf\n",
    "from pandas.plotting import lag_plot\n",
    "from statsmodels.tsa.stattools import adfuller\n",
    "from statsmodels.graphics.tsaplots import plot_acf\n",
    "from statsmodels.graphics.tsaplots import plot_pacf\n",
    "from statsmodels.tsa.arima_model import ARIMA\n",
    "from sklearn.metrics import mean_squared_error\n",
    "import warnings"
   ]
  },
  {
   "cell_type": "code",
   "execution_count": 63,
   "metadata": {},
   "outputs": [],
   "source": [
    "#import data\n",
    "dat = pd.read_csv(\"./data/sales.csv\")\n",
    "dat2 = pd.read_csv(\"./data/events.csv\")\n",
    "dat3 = pd.read_csv(\"./data/weather.csv\")"
   ]
  },
  {
   "cell_type": "code",
   "execution_count": 163,
   "metadata": {},
   "outputs": [
    {
     "data": {
      "text/html": [
       "<div>\n",
       "<style scoped>\n",
       "    .dataframe tbody tr th:only-of-type {\n",
       "        vertical-align: middle;\n",
       "    }\n",
       "\n",
       "    .dataframe tbody tr th {\n",
       "        vertical-align: top;\n",
       "    }\n",
       "\n",
       "    .dataframe thead th {\n",
       "        text-align: right;\n",
       "    }\n",
       "</style>\n",
       "<table border=\"1\" class=\"dataframe\">\n",
       "  <thead>\n",
       "    <tr style=\"text-align: right;\">\n",
       "      <th></th>\n",
       "      <th>maxtempF</th>\n",
       "      <th>mintempF</th>\n",
       "      <th>FeelsLikeF</th>\n",
       "    </tr>\n",
       "    <tr>\n",
       "      <th>date</th>\n",
       "      <th></th>\n",
       "      <th></th>\n",
       "      <th></th>\n",
       "    </tr>\n",
       "  </thead>\n",
       "  <tbody>\n",
       "    <tr>\n",
       "      <th>2016-11-01</th>\n",
       "      <td>66</td>\n",
       "      <td>59</td>\n",
       "      <td>57</td>\n",
       "    </tr>\n",
       "    <tr>\n",
       "      <th>2016-11-02</th>\n",
       "      <td>60</td>\n",
       "      <td>47</td>\n",
       "      <td>49</td>\n",
       "    </tr>\n",
       "    <tr>\n",
       "      <th>2016-11-03</th>\n",
       "      <td>59</td>\n",
       "      <td>44</td>\n",
       "      <td>49</td>\n",
       "    </tr>\n",
       "    <tr>\n",
       "      <th>2016-11-04</th>\n",
       "      <td>58</td>\n",
       "      <td>37</td>\n",
       "      <td>45</td>\n",
       "    </tr>\n",
       "    <tr>\n",
       "      <th>2016-11-05</th>\n",
       "      <td>68</td>\n",
       "      <td>41</td>\n",
       "      <td>50</td>\n",
       "    </tr>\n",
       "    <tr>\n",
       "      <th>2016-11-06</th>\n",
       "      <td>65</td>\n",
       "      <td>41</td>\n",
       "      <td>51</td>\n",
       "    </tr>\n",
       "    <tr>\n",
       "      <th>2016-11-07</th>\n",
       "      <td>61</td>\n",
       "      <td>44</td>\n",
       "      <td>49</td>\n",
       "    </tr>\n",
       "    <tr>\n",
       "      <th>2016-11-08</th>\n",
       "      <td>53</td>\n",
       "      <td>46</td>\n",
       "      <td>42</td>\n",
       "    </tr>\n",
       "    <tr>\n",
       "      <th>2016-11-09</th>\n",
       "      <td>55</td>\n",
       "      <td>34</td>\n",
       "      <td>41</td>\n",
       "    </tr>\n",
       "    <tr>\n",
       "      <th>2016-11-10</th>\n",
       "      <td>58</td>\n",
       "      <td>37</td>\n",
       "      <td>40</td>\n",
       "    </tr>\n",
       "    <tr>\n",
       "      <th>2016-11-11</th>\n",
       "      <td>46</td>\n",
       "      <td>40</td>\n",
       "      <td>38</td>\n",
       "    </tr>\n",
       "    <tr>\n",
       "      <th>2016-11-12</th>\n",
       "      <td>48</td>\n",
       "      <td>31</td>\n",
       "      <td>31</td>\n",
       "    </tr>\n",
       "    <tr>\n",
       "      <th>2016-11-13</th>\n",
       "      <td>52</td>\n",
       "      <td>32</td>\n",
       "      <td>33</td>\n",
       "    </tr>\n",
       "    <tr>\n",
       "      <th>2016-11-14</th>\n",
       "      <td>57</td>\n",
       "      <td>40</td>\n",
       "      <td>43</td>\n",
       "    </tr>\n",
       "    <tr>\n",
       "      <th>2016-11-15</th>\n",
       "      <td>52</td>\n",
       "      <td>37</td>\n",
       "      <td>41</td>\n",
       "    </tr>\n",
       "    <tr>\n",
       "      <th>2016-11-16</th>\n",
       "      <td>56</td>\n",
       "      <td>38</td>\n",
       "      <td>42</td>\n",
       "    </tr>\n",
       "    <tr>\n",
       "      <th>2016-11-17</th>\n",
       "      <td>63</td>\n",
       "      <td>50</td>\n",
       "      <td>49</td>\n",
       "    </tr>\n",
       "    <tr>\n",
       "      <th>2016-11-18</th>\n",
       "      <td>65</td>\n",
       "      <td>52</td>\n",
       "      <td>55</td>\n",
       "    </tr>\n",
       "    <tr>\n",
       "      <th>2016-11-19</th>\n",
       "      <td>35</td>\n",
       "      <td>31</td>\n",
       "      <td>20</td>\n",
       "    </tr>\n",
       "    <tr>\n",
       "      <th>2016-11-20</th>\n",
       "      <td>31</td>\n",
       "      <td>25</td>\n",
       "      <td>18</td>\n",
       "    </tr>\n",
       "    <tr>\n",
       "      <th>2016-11-21</th>\n",
       "      <td>30</td>\n",
       "      <td>23</td>\n",
       "      <td>18</td>\n",
       "    </tr>\n",
       "    <tr>\n",
       "      <th>2016-11-22</th>\n",
       "      <td>38</td>\n",
       "      <td>25</td>\n",
       "      <td>26</td>\n",
       "    </tr>\n",
       "    <tr>\n",
       "      <th>2016-11-23</th>\n",
       "      <td>41</td>\n",
       "      <td>35</td>\n",
       "      <td>31</td>\n",
       "    </tr>\n",
       "    <tr>\n",
       "      <th>2016-11-24</th>\n",
       "      <td>39</td>\n",
       "      <td>36</td>\n",
       "      <td>32</td>\n",
       "    </tr>\n",
       "    <tr>\n",
       "      <th>2016-11-25</th>\n",
       "      <td>41</td>\n",
       "      <td>35</td>\n",
       "      <td>29</td>\n",
       "    </tr>\n",
       "    <tr>\n",
       "      <th>2016-11-26</th>\n",
       "      <td>43</td>\n",
       "      <td>30</td>\n",
       "      <td>28</td>\n",
       "    </tr>\n",
       "    <tr>\n",
       "      <th>2016-11-27</th>\n",
       "      <td>42</td>\n",
       "      <td>31</td>\n",
       "      <td>31</td>\n",
       "    </tr>\n",
       "    <tr>\n",
       "      <th>2016-11-28</th>\n",
       "      <td>46</td>\n",
       "      <td>44</td>\n",
       "      <td>36</td>\n",
       "    </tr>\n",
       "    <tr>\n",
       "      <th>2016-11-29</th>\n",
       "      <td>46</td>\n",
       "      <td>41</td>\n",
       "      <td>36</td>\n",
       "    </tr>\n",
       "    <tr>\n",
       "      <th>2016-11-30</th>\n",
       "      <td>41</td>\n",
       "      <td>33</td>\n",
       "      <td>32</td>\n",
       "    </tr>\n",
       "    <tr>\n",
       "      <th>...</th>\n",
       "      <td>...</td>\n",
       "      <td>...</td>\n",
       "      <td>...</td>\n",
       "    </tr>\n",
       "    <tr>\n",
       "      <th>2017-11-09</th>\n",
       "      <td>30</td>\n",
       "      <td>23</td>\n",
       "      <td>15</td>\n",
       "    </tr>\n",
       "    <tr>\n",
       "      <th>2017-11-10</th>\n",
       "      <td>26</td>\n",
       "      <td>14</td>\n",
       "      <td>10</td>\n",
       "    </tr>\n",
       "    <tr>\n",
       "      <th>2017-11-11</th>\n",
       "      <td>30</td>\n",
       "      <td>25</td>\n",
       "      <td>19</td>\n",
       "    </tr>\n",
       "    <tr>\n",
       "      <th>2017-11-12</th>\n",
       "      <td>36</td>\n",
       "      <td>30</td>\n",
       "      <td>28</td>\n",
       "    </tr>\n",
       "    <tr>\n",
       "      <th>2017-11-13</th>\n",
       "      <td>28</td>\n",
       "      <td>22</td>\n",
       "      <td>20</td>\n",
       "    </tr>\n",
       "    <tr>\n",
       "      <th>2017-11-14</th>\n",
       "      <td>34</td>\n",
       "      <td>31</td>\n",
       "      <td>26</td>\n",
       "    </tr>\n",
       "    <tr>\n",
       "      <th>2017-11-15</th>\n",
       "      <td>39</td>\n",
       "      <td>38</td>\n",
       "      <td>29</td>\n",
       "    </tr>\n",
       "    <tr>\n",
       "      <th>2017-11-16</th>\n",
       "      <td>33</td>\n",
       "      <td>27</td>\n",
       "      <td>21</td>\n",
       "    </tr>\n",
       "    <tr>\n",
       "      <th>2017-11-17</th>\n",
       "      <td>36</td>\n",
       "      <td>34</td>\n",
       "      <td>27</td>\n",
       "    </tr>\n",
       "    <tr>\n",
       "      <th>2017-11-18</th>\n",
       "      <td>37</td>\n",
       "      <td>32</td>\n",
       "      <td>26</td>\n",
       "    </tr>\n",
       "    <tr>\n",
       "      <th>2017-11-19</th>\n",
       "      <td>30</td>\n",
       "      <td>24</td>\n",
       "      <td>16</td>\n",
       "    </tr>\n",
       "    <tr>\n",
       "      <th>2017-11-20</th>\n",
       "      <td>40</td>\n",
       "      <td>26</td>\n",
       "      <td>25</td>\n",
       "    </tr>\n",
       "    <tr>\n",
       "      <th>2017-11-21</th>\n",
       "      <td>30</td>\n",
       "      <td>27</td>\n",
       "      <td>18</td>\n",
       "    </tr>\n",
       "    <tr>\n",
       "      <th>2017-11-22</th>\n",
       "      <td>29</td>\n",
       "      <td>21</td>\n",
       "      <td>16</td>\n",
       "    </tr>\n",
       "    <tr>\n",
       "      <th>2017-11-23</th>\n",
       "      <td>36</td>\n",
       "      <td>29</td>\n",
       "      <td>24</td>\n",
       "    </tr>\n",
       "    <tr>\n",
       "      <th>2017-11-24</th>\n",
       "      <td>47</td>\n",
       "      <td>35</td>\n",
       "      <td>31</td>\n",
       "    </tr>\n",
       "    <tr>\n",
       "      <th>2017-11-25</th>\n",
       "      <td>37</td>\n",
       "      <td>33</td>\n",
       "      <td>26</td>\n",
       "    </tr>\n",
       "    <tr>\n",
       "      <th>2017-11-26</th>\n",
       "      <td>40</td>\n",
       "      <td>24</td>\n",
       "      <td>24</td>\n",
       "    </tr>\n",
       "    <tr>\n",
       "      <th>2017-11-27</th>\n",
       "      <td>40</td>\n",
       "      <td>29</td>\n",
       "      <td>29</td>\n",
       "    </tr>\n",
       "    <tr>\n",
       "      <th>2017-11-28</th>\n",
       "      <td>45</td>\n",
       "      <td>40</td>\n",
       "      <td>34</td>\n",
       "    </tr>\n",
       "    <tr>\n",
       "      <th>2017-11-29</th>\n",
       "      <td>34</td>\n",
       "      <td>28</td>\n",
       "      <td>23</td>\n",
       "    </tr>\n",
       "    <tr>\n",
       "      <th>2017-11-30</th>\n",
       "      <td>38</td>\n",
       "      <td>31</td>\n",
       "      <td>25</td>\n",
       "    </tr>\n",
       "    <tr>\n",
       "      <th>2017-12-04</th>\n",
       "      <td>49</td>\n",
       "      <td>29</td>\n",
       "      <td>38</td>\n",
       "    </tr>\n",
       "    <tr>\n",
       "      <th>2017-12-06</th>\n",
       "      <td>40</td>\n",
       "      <td>23</td>\n",
       "      <td>16</td>\n",
       "    </tr>\n",
       "    <tr>\n",
       "      <th>2017-12-03</th>\n",
       "      <td>41</td>\n",
       "      <td>34</td>\n",
       "      <td>29</td>\n",
       "    </tr>\n",
       "    <tr>\n",
       "      <th>2017-12-05</th>\n",
       "      <td>27</td>\n",
       "      <td>19</td>\n",
       "      <td>11</td>\n",
       "    </tr>\n",
       "    <tr>\n",
       "      <th>2017-12-07</th>\n",
       "      <td>23</td>\n",
       "      <td>14</td>\n",
       "      <td>13</td>\n",
       "    </tr>\n",
       "    <tr>\n",
       "      <th>2017-12-08</th>\n",
       "      <td>25</td>\n",
       "      <td>16</td>\n",
       "      <td>11</td>\n",
       "    </tr>\n",
       "    <tr>\n",
       "      <th>2017-12-09</th>\n",
       "      <td>20</td>\n",
       "      <td>13</td>\n",
       "      <td>7</td>\n",
       "    </tr>\n",
       "    <tr>\n",
       "      <th>2017-12-10</th>\n",
       "      <td>20</td>\n",
       "      <td>14</td>\n",
       "      <td>5</td>\n",
       "    </tr>\n",
       "  </tbody>\n",
       "</table>\n",
       "<p>405 rows × 3 columns</p>\n",
       "</div>"
      ],
      "text/plain": [
       "            maxtempF  mintempF  FeelsLikeF\n",
       "date                                      \n",
       "2016-11-01        66        59          57\n",
       "2016-11-02        60        47          49\n",
       "2016-11-03        59        44          49\n",
       "2016-11-04        58        37          45\n",
       "2016-11-05        68        41          50\n",
       "2016-11-06        65        41          51\n",
       "2016-11-07        61        44          49\n",
       "2016-11-08        53        46          42\n",
       "2016-11-09        55        34          41\n",
       "2016-11-10        58        37          40\n",
       "2016-11-11        46        40          38\n",
       "2016-11-12        48        31          31\n",
       "2016-11-13        52        32          33\n",
       "2016-11-14        57        40          43\n",
       "2016-11-15        52        37          41\n",
       "2016-11-16        56        38          42\n",
       "2016-11-17        63        50          49\n",
       "2016-11-18        65        52          55\n",
       "2016-11-19        35        31          20\n",
       "2016-11-20        31        25          18\n",
       "2016-11-21        30        23          18\n",
       "2016-11-22        38        25          26\n",
       "2016-11-23        41        35          31\n",
       "2016-11-24        39        36          32\n",
       "2016-11-25        41        35          29\n",
       "2016-11-26        43        30          28\n",
       "2016-11-27        42        31          31\n",
       "2016-11-28        46        44          36\n",
       "2016-11-29        46        41          36\n",
       "2016-11-30        41        33          32\n",
       "...              ...       ...         ...\n",
       "2017-11-09        30        23          15\n",
       "2017-11-10        26        14          10\n",
       "2017-11-11        30        25          19\n",
       "2017-11-12        36        30          28\n",
       "2017-11-13        28        22          20\n",
       "2017-11-14        34        31          26\n",
       "2017-11-15        39        38          29\n",
       "2017-11-16        33        27          21\n",
       "2017-11-17        36        34          27\n",
       "2017-11-18        37        32          26\n",
       "2017-11-19        30        24          16\n",
       "2017-11-20        40        26          25\n",
       "2017-11-21        30        27          18\n",
       "2017-11-22        29        21          16\n",
       "2017-11-23        36        29          24\n",
       "2017-11-24        47        35          31\n",
       "2017-11-25        37        33          26\n",
       "2017-11-26        40        24          24\n",
       "2017-11-27        40        29          29\n",
       "2017-11-28        45        40          34\n",
       "2017-11-29        34        28          23\n",
       "2017-11-30        38        31          25\n",
       "2017-12-04        49        29          38\n",
       "2017-12-06        40        23          16\n",
       "2017-12-03        41        34          29\n",
       "2017-12-05        27        19          11\n",
       "2017-12-07        23        14          13\n",
       "2017-12-08        25        16          11\n",
       "2017-12-09        20        13           7\n",
       "2017-12-10        20        14           5\n",
       "\n",
       "[405 rows x 3 columns]"
      ]
     },
     "execution_count": 163,
     "metadata": {},
     "output_type": "execute_result"
    }
   ],
   "source": [
    "#format Date so that it does not contain hours and set it as index\n",
    "dat['Date'] = dat['Date'].str[:10]\n",
    "dat.set_index('Date')\n",
    "\n",
    "dat3['date'] = dat3['date'].str[:10]\n",
    "dat3.set_index('date')\n"
   ]
  },
  {
   "cell_type": "code",
   "execution_count": 164,
   "metadata": {},
   "outputs": [
    {
     "data": {
      "text/plain": [
       "[<matplotlib.lines.Line2D at 0x23906079da0>]"
      ]
     },
     "execution_count": 164,
     "metadata": {},
     "output_type": "execute_result"
    },
    {
     "data": {
      "image/png": "[encoded data removed]",
      "text/plain": [
       "<matplotlib.figure.Figure at 0x239049bae10>"
      ]
     },
     "metadata": {},
     "output_type": "display_data"
    }
   ],
   "source": [
    "#plot the weather\n",
    "plt.plot(dat3['FeelsLikeF'])"
   ]
  },
  {
   "cell_type": "code",
   "execution_count": 70,
   "metadata": {},
   "outputs": [
    {
     "data": {
      "text/plain": [
       "array(['DONUT $1.29', 'BANANA', 'COFF/TEA 16 OZ', ...,\n",
       "       'FRITO NUT HARV PRO P', 'GRIZZ LC STRAIGHT PP',\n",
       "       'BELG BOY CHOCO STIX'], dtype=object)"
      ]
     },
     "execution_count": 70,
     "metadata": {},
     "output_type": "execute_result"
    }
   ],
   "source": [
    "dat.Description.unique()"
   ]
  },
  {
   "cell_type": "code",
   "execution_count": 72,
   "metadata": {},
   "outputs": [],
   "source": [
    "#drop information that is not needed\n",
    "df = dat.drop(['POSCode', 'SalesQuantity'], axis = 1)"
   ]
  },
  {
   "cell_type": "code",
   "execution_count": 73,
   "metadata": {},
   "outputs": [
    {
     "data": {
      "text/plain": [
       "[<matplotlib.lines.Line2D at 0x239000845c0>]"
      ]
     },
     "execution_count": 73,
     "metadata": {},
     "output_type": "execute_result"
    },
    {
     "data": {
      "image/png": "[encoded data removed]",
      "text/plain": [
       "<matplotlib.figure.Figure at 0x23978ac7a90>"
      ]
     },
     "metadata": {},
     "output_type": "display_data"
    }
   ],
   "source": [
    "plt.plot(dat['SalesAmount'])"
   ]
  },
  {
   "cell_type": "code",
   "execution_count": 103,
   "metadata": {},
   "outputs": [
    {
     "data": {
      "text/plain": [
       "DatetimeIndex(['2017-11-28', '2017-11-24', '2017-11-23', '2017-11-22',\n",
       "               '2017-11-20', '2017-11-19', '2017-11-18', '2017-11-17',\n",
       "               '2017-11-12', '2017-11-11',\n",
       "               ...\n",
       "               '2016-11-15', '2016-11-14', '2016-11-13', '2016-11-11',\n",
       "               '2016-11-10', '2016-11-07', '2016-11-06', '2016-11-05',\n",
       "               '2016-11-04', '2016-11-01'],\n",
       "              dtype='datetime64[ns]', name='Date', length=255, freq=None)"
      ]
     },
     "execution_count": 103,
     "metadata": {},
     "output_type": "execute_result"
    }
   ],
   "source": [
    "bananas = df.loc[df['Description'] == 'BANANA']\n",
    "bananas = bananas.drop(['Description'], axis = 1)\n",
    "bananas\n",
    "\n",
    "smartwater = df.loc[df['Description'] == 'SMART WATER 700ML']\n",
    "smartwater = smartwater.drop(['Description'], axis = 1)\n",
    "smartwater\n",
    "#---------------------------------------------------------\n",
    "\n",
    "ice = df.loc[df['Description'] == 'ICE 20LB BAG']\n",
    "ice = ice.drop(['Description'], axis = 1)\n",
    "\n",
    "ice['Date'] = pd.to_datetime(ice['Date'],format='%Y-%m-%d')\n",
    "ice = ice.set_index('Date')\n",
    "ice.index"
   ]
  },
  {
   "cell_type": "code",
   "execution_count": 104,
   "metadata": {},
   "outputs": [
    {
     "data": {
      "text/plain": [
       "[<matplotlib.lines.Line2D at 0x2390011f6a0>]"
      ]
     },
     "execution_count": 104,
     "metadata": {},
     "output_type": "execute_result"
    },
    {
     "data": {
      "image/png": "[encoded data removed]",
      "text/plain": [
       "<matplotlib.figure.Figure at 0x2390010d668>"
      ]
     },
     "metadata": {},
     "output_type": "display_data"
    }
   ],
   "source": [
    "# plt.plot(bananas['SalesAmount'])\n",
    "# plt.plot(smartwater['SalesAmount'])\n",
    "#plot ice sales\n",
    "plt.plot(ice['SalesAmount'])\n",
    "# plt.set_xticklabels(ice['Date'], rotation=0)"
   ]
  },
  {
   "cell_type": "code",
   "execution_count": 165,
   "metadata": {},
   "outputs": [
    {
     "data": {
      "text/plain": [
       "Date\n",
       "2017-11-28      7.58\n",
       "2017-11-24      3.79\n",
       "2017-11-23     37.90\n",
       "2017-11-22      3.79\n",
       "2017-11-20      3.79\n",
       "2017-11-19     34.11\n",
       "2017-11-18     18.95\n",
       "2017-11-17      3.79\n",
       "2017-11-12     26.53\n",
       "2017-11-11      3.79\n",
       "2017-11-10     22.74\n",
       "2017-11-08      3.79\n",
       "2017-11-07      3.79\n",
       "2017-11-06     64.43\n",
       "2017-11-04     18.95\n",
       "2017-10-31      3.79\n",
       "2017-10-28     15.16\n",
       "2017-10-27      3.79\n",
       "2017-10-25     11.37\n",
       "2017-10-23      7.58\n",
       "2017-10-22    102.33\n",
       "2017-10-21     45.48\n",
       "2017-10-20     18.95\n",
       "2017-10-19      7.58\n",
       "2017-10-18      7.58\n",
       "2017-10-15      7.58\n",
       "2017-10-14     11.37\n",
       "2017-10-13     26.53\n",
       "2017-10-12      3.79\n",
       "2017-10-11      3.79\n",
       "               ...  \n",
       "2016-12-25     22.74\n",
       "2016-12-24     34.11\n",
       "2016-12-23      3.79\n",
       "2016-12-18      7.58\n",
       "2016-12-11     11.37\n",
       "2016-12-10      3.79\n",
       "2016-12-09      7.58\n",
       "2016-12-06      3.79\n",
       "2016-12-05      3.79\n",
       "2016-12-04     22.74\n",
       "2016-12-03      7.58\n",
       "2016-12-02      7.58\n",
       "2016-11-30      3.79\n",
       "2016-11-26     34.11\n",
       "2016-11-24     15.16\n",
       "2016-11-23      3.79\n",
       "2016-11-22      3.79\n",
       "2016-11-20     22.74\n",
       "2016-11-19     18.95\n",
       "2016-11-18     30.32\n",
       "2016-11-15      3.79\n",
       "2016-11-14      3.79\n",
       "2016-11-13     34.11\n",
       "2016-11-11     30.32\n",
       "2016-11-10     45.48\n",
       "2016-11-07      3.79\n",
       "2016-11-06     75.80\n",
       "2016-11-05     49.27\n",
       "2016-11-04     26.53\n",
       "2016-11-01      7.58\n",
       "Name: SalesAmount, Length: 255, dtype: float64"
      ]
     },
     "execution_count": 165,
     "metadata": {},
     "output_type": "execute_result"
    }
   ],
   "source": [
    "ice2 = ice[ice.columns[0]]\n",
    "ice2"
   ]
  },
  {
   "cell_type": "code",
   "execution_count": 127,
   "metadata": {},
   "outputs": [],
   "source": [
    "#this dickey fuller test checks stationarity of the time series in order to fit an ARIMA model\n",
    "def test_stationarity(timeseries):\n",
    "    \n",
    "    #Determing rolling statistics\n",
    "    rolmean = pd.rolling_mean(timeseries, window=12)\n",
    "    rolstd = pd.rolling_std(timeseries, window=12)\n",
    "\n",
    "    #Plot rolling statistics:\n",
    "    orig = plt.plot(timeseries, color='blue',label='Original')\n",
    "    mean = plt.plot(rolmean, color='red', label='Rolling Mean')\n",
    "    std = plt.plot(rolstd, color='black', label = 'Rolling Std')\n",
    "    plt.legend(loc='best')\n",
    "    plt.title('Rolling Mean & Standard Deviation')\n",
    "    plt.show(block=False)\n",
    "    \n",
    "    #Perform Dickey-Fuller test:\n",
    "    print('Results of Dickey-Fuller Test:')\n",
    "    dftest = adfuller(timeseries, autolag='AIC')\n",
    "    dfoutput = pd.Series(dftest[0:4], index=['Test Statistic','p-value','#Lags Used','Number of Observations Used'])\n",
    "    for key,value in dftest[4].items():\n",
    "        dfoutput['Critical Value (%s)'%key] = value\n",
    "    print(dfoutput)"
   ]
  },
  {
   "cell_type": "code",
   "execution_count": 131,
   "metadata": {},
   "outputs": [
    {
     "name": "stderr",
     "output_type": "stream",
     "text": [
      "C:\\Users\\Jason\\Anaconda3\\lib\\site-packages\\ipykernel_launcher.py:4: FutureWarning: pd.rolling_mean is deprecated for Series and will be removed in a future version, replace with \n",
      "\tSeries.rolling(window=12,center=False).mean()\n",
      "  after removing the cwd from sys.path.\n",
      "C:\\Users\\Jason\\Anaconda3\\lib\\site-packages\\ipykernel_launcher.py:5: FutureWarning: pd.rolling_std is deprecated for Series and will be removed in a future version, replace with \n",
      "\tSeries.rolling(window=12,center=False).std()\n",
      "  \"\"\"\n"
     ]
    },
    {
     "data": {
      "image/png": "[encoded data removed]",
      "text/plain": [
       "<matplotlib.figure.Figure at 0x23904e25780>"
      ]
     },
     "metadata": {},
     "output_type": "display_data"
    },
    {
     "name": "stdout",
     "output_type": "stream",
     "text": [
      "Results of Dickey-Fuller Test:\n",
      "Test Statistic                  -2.769320\n",
      "p-value                          0.062792\n",
      "#Lags Used                      12.000000\n",
      "Number of Observations Used    242.000000\n",
      "Critical Value (1%)             -3.457664\n",
      "Critical Value (5%)             -2.873559\n",
      "Critical Value (10%)            -2.573175\n",
      "dtype: float64\n"
     ]
    }
   ],
   "source": [
    "#Run test\n",
    "test_stationarity(ice2)"
   ]
  },
  {
   "cell_type": "code",
   "execution_count": 134,
   "metadata": {},
   "outputs": [
    {
     "data": {
      "image/png": "[encoded data removed]",
      "text/plain": [
       "<matplotlib.figure.Figure at 0x23904c70630>"
      ]
     },
     "execution_count": 134,
     "metadata": {},
     "output_type": "execute_result"
    },
    {
     "data": {
      "image/png": "[encoded data removed]",
      "text/plain": [
       "<matplotlib.figure.Figure at 0x23904c70630>"
      ]
     },
     "metadata": {},
     "output_type": "display_data"
    }
   ],
   "source": [
    "plot_acf(ice_values)"
   ]
  },
  {
   "cell_type": "code",
   "execution_count": 166,
   "metadata": {},
   "outputs": [
    {
     "data": {
      "text/plain": [
       "array([ 3.79,  3.79, 34.11, 30.32, 45.48,  3.79, 75.8 , 49.27, 26.53,\n",
       "        7.58])"
      ]
     },
     "execution_count": 166,
     "metadata": {},
     "output_type": "execute_result"
    }
   ],
   "source": [
    "#split into training and testing\n",
    "X = ice_values\n",
    "forecast_length = 10\n",
    "train_size = len(X) - forecast_length\n",
    "train, test = X[0:train_size], X[train_size:]\n",
    "test\n"
   ]
  },
  {
   "cell_type": "code",
   "execution_count": 142,
   "metadata": {},
   "outputs": [],
   "source": [
    "#find the best \n",
    "def arimaGridSearch(dataset, p_values, d_values, q_values):\n",
    "    bestrmse = 100\n",
    "    for p in p_values:\n",
    "        for d in d_values:\n",
    "            for q in q_values:\n",
    "                order = (p,d,q)\n",
    "                try:\n",
    "                    model = ARIMA(train, order)\n",
    "                    model_fit = model.fit()\n",
    "                    predict = model_fit.forecast(steps=forecast_length)[0]\n",
    "                    rmse = np.sqrt(mean_squared_error(test, predict))\n",
    "                    print(order, \" \", rmse)\n",
    "                    if rmse < bestrmse:\n",
    "                        bestrmse = rmse\n",
    "                        bestorder = order\n",
    "                except:\n",
    "                    continue\n",
    "    print(\"Best Overall: \", bestorder, bestrmse)\n",
    "    return bestorder"
   ]
  },
  {
   "cell_type": "code",
   "execution_count": 144,
   "metadata": {},
   "outputs": [
    {
     "name": "stdout",
     "output_type": "stream",
     "text": [
      "(1, 0, 0)   24.163593127382097\n",
      "(1, 0, 1)   24.236789015126583\n",
      "(1, 0, 2)   24.279316574772487\n",
      "(1, 0, 3)   24.284087782323102\n",
      "(1, 0, 4)   26.17794515408157\n",
      "(1, 1, 0)   22.86095968554056\n",
      "(1, 1, 1)   28.303322294268348\n",
      "(1, 1, 2)   28.34653699678303\n",
      "(1, 1, 4)   28.136294955944937\n",
      "(1, 1, 5)   28.04089614246131\n",
      "(1, 2, 0)   44.782549960222596\n",
      "(1, 2, 4)   35.77721379131685\n",
      "(2, 0, 0)   24.255210841128775\n",
      "(2, 0, 1)   24.25134395144816\n",
      "(2, 0, 2)   24.35753660566514\n",
      "(2, 0, 3)   24.37283123162311\n",
      "(2, 1, 0)   22.907933236641682\n",
      "(2, 1, 1)   28.1278032043889\n",
      "(2, 1, 2)   28.056727699289173\n",
      "(2, 1, 3)   27.96286731728578\n",
      "(2, 1, 4)   28.162550550186175\n",
      "(2, 1, 5)   27.948828426394147\n",
      "(2, 2, 0)   55.90534009994933\n",
      "(3, 0, 0)   24.241804680585545\n",
      "(3, 0, 1)   24.389348765783136\n",
      "(3, 0, 2)   24.367307620018682\n",
      "(3, 0, 3)   24.37545928370107\n",
      "(3, 1, 0)   23.26287011895039\n",
      "(3, 1, 1)   28.053935980356847\n",
      "(3, 1, 2)   28.093656963582745\n",
      "(3, 1, 3)   28.12457492529409\n",
      "(3, 1, 4)   28.074123277777563\n",
      "(3, 1, 5)   27.9827214997913\n",
      "(3, 2, 0)   50.49858104862762\n",
      "(3, 2, 1)   23.5648851533486\n",
      "(4, 0, 0)   24.03941965240877\n",
      "(4, 0, 1)   26.077538841831014\n",
      "(4, 0, 2)   26.098671151633216\n",
      "(4, 0, 3)   25.9287666142268\n",
      "(4, 1, 0)   23.730709650793045\n",
      "(4, 1, 1)   28.087094809642252\n",
      "(4, 1, 2)   28.110487707408897\n",
      "(4, 1, 3)   28.065597196628325\n",
      "(4, 1, 4)   27.908465802119206\n",
      "(4, 1, 5)   27.850932532004045\n",
      "(4, 2, 0)   39.395204207880234\n",
      "(4, 2, 1)   24.165015955832672\n",
      "(5, 0, 0)   24.01837415776099\n",
      "(5, 0, 1)   24.056153427475394\n",
      "(5, 0, 2)   25.930973569621074\n",
      "(5, 0, 3)   26.363795440288225\n",
      "(5, 0, 4)   24.452059324760473\n",
      "(5, 1, 0)   24.753997809062348\n",
      "(5, 1, 1)   28.038364367673427\n",
      "(5, 1, 2)   28.0554556747925\n",
      "(5, 1, 3)   27.929762292035996\n",
      "(5, 1, 5)   27.791138010242285\n",
      "(5, 2, 0)   27.776305971803737\n",
      "(5, 2, 1)   25.237122376673003\n",
      "(5, 2, 2)   31.407878789104522\n",
      "Best Overall:  (1, 1, 0) 22.86095968554056\n"
     ]
    }
   ],
   "source": [
    "#find best model for predictions\n",
    "warnings.filterwarnings(\"ignore\")\n",
    "bestorder = arimaGridSearch(ice_values,[1,2,3,4,5],[0,1,2,3],[0,1,2,3,4,5])"
   ]
  },
  {
   "cell_type": "code",
   "execution_count": 153,
   "metadata": {},
   "outputs": [
    {
     "name": "stdout",
     "output_type": "stream",
     "text": [
      "0    28.220594\n",
      "1    28.733070\n",
      "2    28.739070\n",
      "3    28.843283\n",
      "4    28.928450\n",
      "5    29.017311\n",
      "6    29.105456\n",
      "7    29.193739\n",
      "8    29.281995\n",
      "9    29.370257\n",
      "dtype: float64\n"
     ]
    },
    {
     "data": {
      "text/plain": [
       "[<matplotlib.lines.Line2D at 0x2390485a048>]"
      ]
     },
     "execution_count": 153,
     "metadata": {},
     "output_type": "execute_result"
    },
    {
     "data": {
      "image/png": "[encoded data removed]",
      "text/plain": [
       "<matplotlib.figure.Figure at 0x2390490c080>"
      ]
     },
     "metadata": {},
     "output_type": "display_data"
    }
   ],
   "source": [
    "#(1,1,0) Seems to be the best prediction overall\n",
    "model = ARIMA(train, bestorder)\n",
    "model_fit = model.fit()\n",
    "\n",
    "predict = model_fit.forecast(steps=forecast_length)[0]\n",
    "# compute the error\n",
    "rmse = np.sqrt(mean_squared_error(test, predict))\n",
    "# plot the actual data plus forecast\n",
    "predicted = pd.Series(predict)\n",
    "print(predicted)\n",
    "# ice_values.plot()\n",
    "plt.plot(ice_values)\n",
    "# predicted.plot(color=\"red\")\n",
    "plt.plot(predicted)"
   ]
  }
 ],
 "metadata": {
  "kernelspec": {
   "display_name": "Python 3",
   "language": "python",
   "name": "python3"
  },
  "language_info": {
   "codemirror_mode": {
    "name": "ipython",
    "version": 3
   },
   "file_extension": ".py",
   "mimetype": "text/x-python",
   "name": "python",
   "nbconvert_exporter": "python",
   "pygments_lexer": "ipython3",
   "version": "3.6.4"
  }
 },
 "nbformat": 4,
 "nbformat_minor": 2
}
